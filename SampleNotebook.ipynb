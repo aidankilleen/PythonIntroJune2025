{
 "cells": [
  {
   "cell_type": "markdown",
   "id": "a117b695",
   "metadata": {},
   "source": [
    "# Sample Jupyter Notebook\n",
    "\n",
    "## This is a smaller heading\n",
    "\n",
    "### This is an even smaller heading\n",
    "\n",
    "this is *italic*\n",
    "\n",
    "this is **bold**\n",
    "\n",
    "this is ***bold italic***\n",
    "\n",
    "this is ~~strikethrough~~\n",
    "\n",
    "for more information go to [Professional Training](https://professional.ie)\n",
    "\n",
    "- one\n",
    "- two\n",
    "- three\n",
    "\n",
    "\n",
    "1. one\n",
    "2. two\n",
    "3. three\n",
    "\n"
   ]
  },
  {
   "cell_type": "code",
   "execution_count": 3,
   "id": "bf2327ec",
   "metadata": {},
   "outputs": [
    {
     "name": "stdout",
     "output_type": "stream",
     "text": [
      "Aidan\n"
     ]
    }
   ],
   "source": [
    "name=\"Aidan\"\n",
    "print(name)"
   ]
  },
  {
   "cell_type": "markdown",
   "id": "178e2b7b",
   "metadata": {},
   "source": [
    "$$\n",
    "x = \\frac{-b \\pm \\sqrt{b^2 - 4ac}}{2a}\n",
    "$$"
   ]
  },
  {
   "cell_type": "code",
   "execution_count": 4,
   "id": "09280985",
   "metadata": {},
   "outputs": [
    {
     "name": "stdout",
     "output_type": "stream",
     "text": [
      "    ___    _     __               __ __ _ ____              \n",
      "   /   |  (_)___/ /___ _____     / //_/(_) / /__  ___  ____ \n",
      "  / /| | / / __  / __ `/ __ \\   / ,<  / / / / _ \\/ _ \\/ __ \\\n",
      " / ___ |/ / /_/ / /_/ / / / /  / /| |/ / / /  __/  __/ / / /\n",
      "/_/  |_/_/\\__,_/\\__,_/_/ /_/  /_/ |_/_/_/_/\\___/\\___/_/ /_/ \n",
      "                                                            \n",
      "\n"
     ]
    }
   ],
   "source": [
    "import pyfiglet as pf\n",
    "f = pf.figlet_format(\"Aidan Killeen\", font=\"slant\")\n",
    "print(f)"
   ]
  }
 ],
 "metadata": {
  "kernelspec": {
   "display_name": "Python 3",
   "language": "python",
   "name": "python3"
  },
  "language_info": {
   "codemirror_mode": {
    "name": "ipython",
    "version": 3
   },
   "file_extension": ".py",
   "mimetype": "text/x-python",
   "name": "python",
   "nbconvert_exporter": "python",
   "pygments_lexer": "ipython3",
   "version": "3.13.2"
  }
 },
 "nbformat": 4,
 "nbformat_minor": 5
}
